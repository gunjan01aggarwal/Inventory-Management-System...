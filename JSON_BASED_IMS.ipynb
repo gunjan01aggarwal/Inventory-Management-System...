{
 "cells": [
  {
   "cell_type": "markdown",
   "metadata": {},
   "source": [
    "##GENERATING SALES AND RECORD FILES FOR FIRST TIME "
   ]
  },
  {
   "cell_type": "code",
   "execution_count": 1,
   "metadata": {},
   "outputs": [],
   "source": [
    "import json\n",
    "import time"
   ]
  },
  {
   "cell_type": "code",
   "execution_count": 2,
   "metadata": {},
   "outputs": [],
   "source": [
    "fd = open('records.json', 'r')\n",
    "t = fd.read()\n",
    "fd.close()\n",
    "\n",
    "fd = open('record1.json','w')\n",
    "fd.write(t)\n",
    "fd.close()\n",
    "\n",
    "sales = {}\n",
    "\n",
    "sales = json.dumps(sales)\n",
    "\n",
    "fd = open(\"sales.json\", 'w')\n",
    "fd.write(sales)\n",
    "fd.close()"
   ]
  },
  {
   "cell_type": "code",
   "execution_count": 3,
   "metadata": {},
   "outputs": [
    {
     "name": "stdout",
     "output_type": "stream",
     "text": [
      "**********************************************\n",
      "1001 {'name': 'Kitkat Chocolate', 'Unit_Price': 20, 'Qty': 100}\n",
      "1002 {'name': 'Dairy Milk Chocolate', 'Unit_Price': 20, 'Qty': 40}\n",
      "1003 {'name': 'BarOne Chocolate', 'Unit_Price': 10, 'Qty': 60}\n",
      "1004 {'name': 'Kitkat Chocolate', 'Unit_Price': 20, 'Qty': 50}\n",
      "1005 {'name': 'Mix Namkeen', 'Unit_Price': 25, 'Qty': 80}\n",
      "1006 {'name': 'Green Lays', 'Unit_Price': 20, 'Qty': 35}\n",
      "1007 {'name': 'RedChilli Lays', 'Unit_Price': 20, 'Qty': 40}\n",
      "1008 {'name': 'GoodDay Biscuit', 'Unit_Price': 10, 'Qty': 50}\n",
      "1009 {'name': \"Mom's Magic Biscuit\", 'Unit_Price': 20, 'Qty': 70}\n",
      "1010 {'name': 'Choco Bisuit', 'Unit_Price': 30, 'Qty': 48}\n",
      "1011 {'name': 'Maggi', 'Unit_Price': 15, 'Qty': 100}\n",
      "1012 {'name': 'Knorr Soupy Maggie', 'Unit_Price': 20, 'Qty': 90}\n",
      "1013 {'name': 'Yippee Maggi', 'Unit_Price': 15, 'Qty': 80}\n",
      "1014 {'name': 'Aloo bujiya Namkeen', 'Unit_Price': 10, 'Qty': 70}\n",
      "1015 {'name': 'Bingo Tedhe Medhe', 'Unit_Price': 10, 'Qty': 100}\n",
      "1016 {'name': 'Crax', 'Unit_Price': 15, 'Qty': 40}\n",
      "1017 {'name': 'Kurkure', 'Unit_Price': 10, 'Qty': 80}\n",
      "1018 {'name': 'Kurkure', 'Unit_Price': 20, 'Qty': 89}\n",
      "1019 {'name': 'SnackLite', 'Unit_Price': 20, 'Qty': 50}\n",
      "1020 {'name': 'Kitkat Chocolate', 'Unit_Price': 40, 'Qty': 80}\n",
      "******************************************\n",
      "\n"
     ]
    },
    {
     "name": "stdin",
     "output_type": "stream",
     "text": [
      "Enter the product_Id:  1005\n",
      "Enter the quantity:  4\n"
     ]
    },
    {
     "name": "stdout",
     "output_type": "stream",
     "text": [
      "Name: Mix Namkeen\n",
      "Price: 25\n",
      "Quantity: 4\n",
      "------------------------------\n",
      "Billing Amount: 100\n",
      "------------------------------\n",
      "Data Updated in Sales File!\n",
      "Data Updated in Inventory File!\n"
     ]
    }
   ],
   "source": [
    "# Loading Inventory and Converting it to Dictionary\n",
    "fd = open('records.json','r')\n",
    "t = fd.read()\n",
    "fd.close()\n",
    "dct = json.loads(t)\n",
    "\n",
    "# Loading Sales and Converting it to Dictionary\n",
    "fd = open(\"sales.json\", 'r')\n",
    "sl = fd.read()\n",
    "fd.close()\n",
    "sales = json.loads(sl)\n",
    "# Displaying Menu\n",
    "print(\"**********************************************\")\n",
    "for i in dct.keys():\n",
    "    print(i, dct[i])\n",
    "\n",
    "print(\"******************************************\\n\")\n",
    "\n",
    "# Taking Input from User to Enter what he/she wants to purchase\n",
    "ui_prod  = str(input(\"Enter the product_Id: \"))\n",
    "ui_quant = int(input(\"Enter the quantity: \"))\n",
    "\n",
    "\n",
    "if (ui_prod in dct.keys()):                                                     # Checking If product Exists or not\n",
    "    if (dct[ui_prod]['Qty'] >= ui_quant):                                        # If I'm having enough Quantity\n",
    "        print(\"Name:\",dct[ui_prod]['name'])\n",
    "        print(\"Price:\",dct[ui_prod]['Unit_Price'])\n",
    "        print(\"Quantity:\", ui_quant)\n",
    "        print(\"------------------------------\")\n",
    "        print(\"Billing Amount:\", dct[ui_prod]['Unit_Price'] * ui_quant)\n",
    "        dct[ui_prod]['Qty'] = dct[ui_prod]['Qty'] - ui_quant                        # Updating Inventory\n",
    "\n",
    "        sales[str(len(sales)+1)] = {'prod_id' : ui_prod,                          # Updating Transection\n",
    "                                  \"time_pr\" :  time.ctime(), \n",
    "                                  'bill' : dct[ui_prod]['Unit_Price'] * ui_quant, \n",
    "                                  'Qty' : ui_quant, \n",
    "                                  'pr' : dct[ui_prod]['Unit_Price'], \n",
    "                                  'pr_name' : dct[ui_prod]['name']}\n",
    "\n",
    "\n",
    "    else:                                                                       # If I'm not having enough Quantity\n",
    "        print(\"Sorry, We are not having that much of quantity.\")\n",
    "        print(\"We're only having\",dct[ui_prod]['Qty'],\"quantity.\")\n",
    "        print(\"Would you like to purchase or not (Y/N)\")\n",
    "        ch = str(input(\"Y/N\"))\n",
    "\n",
    "        if (ch == \"Y\"):                                                           # If user wants to purchase the quantitry we're having\n",
    "            print(\"Name:\",dct[ui_prod]['name'])\n",
    "            print(\"Price:\",dct[ui_prod]['Unit_Price'])\n",
    "            print(\"Quantity:\", dct[ui_prod]['Qty'])\n",
    "            print(\"------------------------------\")\n",
    "            print(\"Billing Amount:\", dct[ui_prod]['Unit_Price'] * dct[ui_prod]['Qty'])\n",
    "\n",
    "            dct[ui_prod]['Qty'] = 0                                                  # Updating Inventory\n",
    "\n",
    "            sales[str(len(sales)+1)] = {'prod_id' : ui_prod,                        # Updating Transection\n",
    "                                    \"time_pr\" :  time.ctime(), \n",
    "                                    'bill' : dct[ui_prod]['Unit_Price'] * dct[ui_prod]['Qty'], \n",
    "                                    'Qty' : dct[ui_prod]['Qty'], \n",
    "                                    'pr' : dct[ui_prod]['Unit_Price'], \n",
    "                                    'pr_name' : dct[ui_prod]['name']}\n",
    "\n",
    "        else:                                                                     # If user press anything Except Y\n",
    "            print(\"Thankyou!\")\n",
    "\n",
    "else:                                                                           # Product ID Doesn't exists\n",
    "    print(\"------------------------------\")\n",
    "    print(\"Product doesn't exist!\")\n",
    "    print(\"Please enter a valid product id\")\n",
    "    print(\"------------------------------\")\n",
    "\n",
    "\n",
    "\n",
    "sl = json.dumps(sales)                                                          # Updating Sales File\n",
    "fd = open('sales.json','w')\n",
    "fd.write(sl)\n",
    "fd.close()\n",
    "\n",
    "print(\"------------------------------\")\n",
    "print(\"Data Updated in Sales File!\")\n",
    "\n",
    "js = json.dumps(dct)                                                            # Updating Inventory File\n",
    "fd = open('record1.json','w')\n",
    "fd.write(js)\n",
    "fd.close()\n",
    "\n",
    "print(\"Data Updated in Inventory File!\")     "
   ]
  },
  {
   "cell_type": "code",
   "execution_count": 4,
   "metadata": {},
   "outputs": [
    {
     "data": {
      "text/plain": [
       "{'1001': {'name': 'Kitkat Chocolate', 'Unit_Price': 20, 'Qty': 100},\n",
       " '1002': {'name': 'Dairy Milk Chocolate', 'Unit_Price': 20, 'Qty': 40},\n",
       " '1003': {'name': 'BarOne Chocolate', 'Unit_Price': 10, 'Qty': 60},\n",
       " '1004': {'name': 'Kitkat Chocolate', 'Unit_Price': 20, 'Qty': 50},\n",
       " '1005': {'name': 'Mix Namkeen', 'Unit_Price': 25, 'Qty': 76},\n",
       " '1006': {'name': 'Green Lays', 'Unit_Price': 20, 'Qty': 35},\n",
       " '1007': {'name': 'RedChilli Lays', 'Unit_Price': 20, 'Qty': 40},\n",
       " '1008': {'name': 'GoodDay Biscuit', 'Unit_Price': 10, 'Qty': 50},\n",
       " '1009': {'name': \"Mom's Magic Biscuit\", 'Unit_Price': 20, 'Qty': 70},\n",
       " '1010': {'name': 'Choco Bisuit', 'Unit_Price': 30, 'Qty': 48},\n",
       " '1011': {'name': 'Maggi', 'Unit_Price': 15, 'Qty': 100},\n",
       " '1012': {'name': 'Knorr Soupy Maggie', 'Unit_Price': 20, 'Qty': 90},\n",
       " '1013': {'name': 'Yippee Maggi', 'Unit_Price': 15, 'Qty': 80},\n",
       " '1014': {'name': 'Aloo bujiya Namkeen', 'Unit_Price': 10, 'Qty': 70},\n",
       " '1015': {'name': 'Bingo Tedhe Medhe', 'Unit_Price': 10, 'Qty': 100},\n",
       " '1016': {'name': 'Crax', 'Unit_Price': 15, 'Qty': 40},\n",
       " '1017': {'name': 'Kurkure', 'Unit_Price': 10, 'Qty': 80},\n",
       " '1018': {'name': 'Kurkure', 'Unit_Price': 20, 'Qty': 89},\n",
       " '1019': {'name': 'SnackLite', 'Unit_Price': 20, 'Qty': 50},\n",
       " '1020': {'name': 'Kitkat Chocolate', 'Unit_Price': 40, 'Qty': 80}}"
      ]
     },
     "execution_count": 4,
     "metadata": {},
     "output_type": "execute_result"
    }
   ],
   "source": [
    "dct"
   ]
  },
  {
   "cell_type": "code",
   "execution_count": 5,
   "metadata": {},
   "outputs": [
    {
     "data": {
      "text/plain": [
       "{'1': {'prod_id': '1005',\n",
       "  'time_pr': 'Sat Nov 27 21:31:05 2021',\n",
       "  'bill': 100,\n",
       "  'Qty': 4,\n",
       "  'pr': 25,\n",
       "  'pr_name': 'Mix Namkeen'}}"
      ]
     },
     "execution_count": 5,
     "metadata": {},
     "output_type": "execute_result"
    }
   ],
   "source": [
    "sales"
   ]
  },
  {
   "cell_type": "code",
   "execution_count": null,
   "metadata": {},
   "outputs": [],
   "source": []
  }
 ],
 "metadata": {
  "kernelspec": {
   "display_name": "Python 3",
   "language": "python",
   "name": "python3"
  },
  "language_info": {
   "codemirror_mode": {
    "name": "ipython",
    "version": 3
   },
   "file_extension": ".py",
   "mimetype": "text/x-python",
   "name": "python",
   "nbconvert_exporter": "python",
   "pygments_lexer": "ipython3",
   "version": "3.7.4"
  }
 },
 "nbformat": 4,
 "nbformat_minor": 4
}
